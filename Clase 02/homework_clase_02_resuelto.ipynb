{
 "cells": [
  {
   "cell_type": "markdown",
   "metadata": {},
   "source": [
    "Homework"
   ]
  },
  {
   "cell_type": "code",
   "execution_count": null,
   "metadata": {},
   "outputs": [],
   "source": [
    "nro_tiros = int(input(\"¿Cuántas veces querés tirar la moneda?\"))\n",
    "resultados = 2**nro_tiros\n",
    "print(\"Los resultados posibles son:\", resultados)"
   ]
  },
  {
   "cell_type": "code",
   "execution_count": null,
   "metadata": {},
   "outputs": [],
   "source": [
    "#2. En un aeropuerto se tiene a 10 pasajeros esperando en la sala de preembarque, la polícia debe controlar a 3 de ellos. ¿Cuantas combinaciones posibles se pueden obtener?.\n",
    "\n",
    "from math import factorial\n",
    "#Combinación\n",
    "control_aeropuerto = factorial(10) / (factorial(3) * factorial(10-3))\n",
    "print(control_aeropuerto)\n",
    "#Permutación\n",
    "control_aeropuerto = factorial(10) / factorial(10-3)\n",
    "print(control_aeropuerto)\n"
   ]
  },
  {
   "cell_type": "code",
   "execution_count": null,
   "metadata": {},
   "outputs": [],
   "source": [
    "#Se utilizó el método frecuentista\n",
    "\n",
    "import pandas as pd    \n",
    "regiones = ['Norte', 'Noreste', 'Sur', 'Centro']\n",
    "valores_si = [148, 162, 296, 252]\n",
    "valores_no = [52, 54, 74, 48]\n",
    "datos = dict(Si = valores_si, No = valores_no)\n",
    "cuadro = pd.DataFrame(datos, index=regiones)\n",
    "#cuadro = cuadro/(sum(cuadro.Si) + sum(cuadro.No))\n",
    "cuadro = cuadro/(sum(cuadro.sum()))\n",
    "cuadro.loc[5] = sum(cuadro.Si), sum(cuadro.No)\n",
    "cuadro = cuadro.rename(index={5: 'Total'})\n",
    "cuadro"
   ]
  },
  {
   "cell_type": "markdown",
   "metadata": {},
   "source": [
    "Sí el director está contento porque la probabilidad es de 0,79"
   ]
  },
  {
   "cell_type": "markdown",
   "metadata": {},
   "source": [
    "La región que más usa el cinturón es la sur, probabilidad: 0,27"
   ]
  },
  {
   "cell_type": "code",
   "execution_count": null,
   "metadata": {},
   "outputs": [],
   "source": [
    "def probabilidadNaipes(categoria):\n",
    "   cartas_totales = 52\n",
    "   cartas_color = 26\n",
    "   cartas_palo = 13\n",
    "   if categoria == 'rojo' or categoria == 'negro':\n",
    "      return cartas_color / cartas_totales\n",
    "   elif categoria in ('pica', 'trebol', 'corazon', 'diamante'):\n",
    "      return cartas_palo / cartas_totales\n",
    "\n",
    "#probabilidadNaipes('rojo')\n",
    "#probabilidadNaipes('negro')\n",
    "probabilidadNaipes('pica')"
   ]
  },
  {
   "cell_type": "code",
   "execution_count": 32,
   "metadata": {},
   "outputs": [
    {
     "name": "stdout",
     "output_type": "stream",
     "text": [
      "0.15384615384615385\n"
     ]
    }
   ],
   "source": [
    "print(4/52 + 4/52)"
   ]
  },
  {
   "cell_type": "code",
   "execution_count": 33,
   "metadata": {},
   "outputs": [
    {
     "data": {
      "text/plain": [
       "0.03125"
      ]
     },
     "execution_count": 33,
     "metadata": {},
     "output_type": "execute_result"
    }
   ],
   "source": [
    "#Probabilidad de ganar el mundial\n",
    "1/32 #No no sirve\n",
    "#Frecuentista"
   ]
  },
  {
   "cell_type": "code",
   "execution_count": 34,
   "metadata": {},
   "outputs": [
    {
     "name": "stdout",
     "output_type": "stream",
     "text": [
      "0.4 0.26 0.34\n"
     ]
    }
   ],
   "source": [
    "E1 = 20\n",
    "E2 = 13\n",
    "E3 = 17\n",
    "total = 50\n",
    "print(E1/50, E2/50, E3/50)"
   ]
  }
 ],
 "metadata": {
  "kernelspec": {
   "display_name": "Python 3.9.7 64-bit",
   "language": "python",
   "name": "python3"
  },
  "language_info": {
   "codemirror_mode": {
    "name": "ipython",
    "version": 3
   },
   "file_extension": ".py",
   "mimetype": "text/x-python",
   "name": "python",
   "nbconvert_exporter": "python",
   "pygments_lexer": "ipython3",
   "version": "3.9.7"
  },
  "orig_nbformat": 4,
  "vscode": {
   "interpreter": {
    "hash": "11938c6bc6919ae2720b4d5011047913343b08a43b18698fd82dedb0d4417594"
   }
  }
 },
 "nbformat": 4,
 "nbformat_minor": 2
}
